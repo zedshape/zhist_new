{
 "cells": [
  {
   "cell_type": "code",
   "execution_count": 1,
   "metadata": {},
   "outputs": [],
   "source": [
    "from ZMiner import *\n",
    "from ZMinerD import *\n",
    "from utils import *\n",
    "from ZHist import *"
   ]
  },
  {
   "cell_type": "code",
   "execution_count": 2,
   "metadata": {},
   "outputs": [
    {
     "name": "stderr",
     "output_type": "stream",
     "text": [
      "/data0/home/dsv/zele5930/projects/zhist_new/utils.py:431: PerformanceWarning: dropping on a non-lexsorted multi-index without a level parameter may impact performance.\n",
      "  a = data.drop(meta, axis=1)\n"
     ]
    }
   ],
   "source": [
    "# Parameters\n",
    "# - Data: type should be xlsx (following the original data)\n",
    "# - Metadata columns: Some columns which are not histograms. Please see the example synthetic data for details.\n",
    "#   * Note that those columns are hard requirements. The dataset should have those metadata columns.\n",
    "\n",
    "data = load_data(\"synthetic_turbo_failure.xlsx\", ['no','time','snap','date','status'])"
   ]
  },
  {
   "cell_type": "code",
   "execution_count": 3,
   "metadata": {},
   "outputs": [
    {
     "data": {
      "text/html": [
       "<div>\n",
       "<style scoped>\n",
       "    .dataframe tbody tr th:only-of-type {\n",
       "        vertical-align: middle;\n",
       "    }\n",
       "\n",
       "    .dataframe tbody tr th {\n",
       "        vertical-align: top;\n",
       "    }\n",
       "\n",
       "    .dataframe thead tr th {\n",
       "        text-align: left;\n",
       "    }\n",
       "</style>\n",
       "<table border=\"1\" class=\"dataframe\">\n",
       "  <thead>\n",
       "    <tr>\n",
       "      <th></th>\n",
       "      <th colspan=\"10\" halign=\"left\">A</th>\n",
       "      <th>...</th>\n",
       "      <th colspan=\"5\" halign=\"left\">J</th>\n",
       "      <th>no</th>\n",
       "      <th>time</th>\n",
       "      <th>snap</th>\n",
       "      <th>date</th>\n",
       "      <th>status</th>\n",
       "    </tr>\n",
       "    <tr>\n",
       "      <th></th>\n",
       "      <th>A0</th>\n",
       "      <th>A1</th>\n",
       "      <th>A2</th>\n",
       "      <th>A3</th>\n",
       "      <th>A4</th>\n",
       "      <th>A5</th>\n",
       "      <th>A6</th>\n",
       "      <th>A7</th>\n",
       "      <th>A8</th>\n",
       "      <th>A9</th>\n",
       "      <th>...</th>\n",
       "      <th>J5</th>\n",
       "      <th>J6</th>\n",
       "      <th>J7</th>\n",
       "      <th>J8</th>\n",
       "      <th>J9</th>\n",
       "      <th></th>\n",
       "      <th></th>\n",
       "      <th></th>\n",
       "      <th></th>\n",
       "      <th></th>\n",
       "    </tr>\n",
       "  </thead>\n",
       "  <tbody>\n",
       "    <tr>\n",
       "      <th>0</th>\n",
       "      <td>4</td>\n",
       "      <td>11</td>\n",
       "      <td>67</td>\n",
       "      <td>187</td>\n",
       "      <td>476</td>\n",
       "      <td>569</td>\n",
       "      <td>468</td>\n",
       "      <td>240</td>\n",
       "      <td>60</td>\n",
       "      <td>18</td>\n",
       "      <td>...</td>\n",
       "      <td>472</td>\n",
       "      <td>293</td>\n",
       "      <td>130</td>\n",
       "      <td>40</td>\n",
       "      <td>14</td>\n",
       "      <td>0</td>\n",
       "      <td>2100</td>\n",
       "      <td>0</td>\n",
       "      <td>2100</td>\n",
       "      <td>0</td>\n",
       "    </tr>\n",
       "    <tr>\n",
       "      <th>1</th>\n",
       "      <td>16</td>\n",
       "      <td>96</td>\n",
       "      <td>450</td>\n",
       "      <td>1154</td>\n",
       "      <td>1781</td>\n",
       "      <td>1771</td>\n",
       "      <td>1125</td>\n",
       "      <td>487</td>\n",
       "      <td>107</td>\n",
       "      <td>13</td>\n",
       "      <td>...</td>\n",
       "      <td>1834</td>\n",
       "      <td>1125</td>\n",
       "      <td>420</td>\n",
       "      <td>76</td>\n",
       "      <td>15</td>\n",
       "      <td>0</td>\n",
       "      <td>7000</td>\n",
       "      <td>1</td>\n",
       "      <td>9100</td>\n",
       "      <td>0</td>\n",
       "    </tr>\n",
       "    <tr>\n",
       "      <th>2</th>\n",
       "      <td>20</td>\n",
       "      <td>130</td>\n",
       "      <td>499</td>\n",
       "      <td>1121</td>\n",
       "      <td>1491</td>\n",
       "      <td>1106</td>\n",
       "      <td>471</td>\n",
       "      <td>135</td>\n",
       "      <td>24</td>\n",
       "      <td>3</td>\n",
       "      <td>...</td>\n",
       "      <td>1171</td>\n",
       "      <td>611</td>\n",
       "      <td>194</td>\n",
       "      <td>37</td>\n",
       "      <td>6</td>\n",
       "      <td>0</td>\n",
       "      <td>5000</td>\n",
       "      <td>2</td>\n",
       "      <td>14100</td>\n",
       "      <td>0</td>\n",
       "    </tr>\n",
       "    <tr>\n",
       "      <th>3</th>\n",
       "      <td>4</td>\n",
       "      <td>30</td>\n",
       "      <td>109</td>\n",
       "      <td>299</td>\n",
       "      <td>530</td>\n",
       "      <td>499</td>\n",
       "      <td>331</td>\n",
       "      <td>147</td>\n",
       "      <td>41</td>\n",
       "      <td>10</td>\n",
       "      <td>...</td>\n",
       "      <td>477</td>\n",
       "      <td>295</td>\n",
       "      <td>124</td>\n",
       "      <td>30</td>\n",
       "      <td>5</td>\n",
       "      <td>0</td>\n",
       "      <td>2000</td>\n",
       "      <td>3</td>\n",
       "      <td>16100</td>\n",
       "      <td>0</td>\n",
       "    </tr>\n",
       "    <tr>\n",
       "      <th>4</th>\n",
       "      <td>8</td>\n",
       "      <td>21</td>\n",
       "      <td>40</td>\n",
       "      <td>56</td>\n",
       "      <td>81</td>\n",
       "      <td>82</td>\n",
       "      <td>53</td>\n",
       "      <td>40</td>\n",
       "      <td>11</td>\n",
       "      <td>8</td>\n",
       "      <td>...</td>\n",
       "      <td>87</td>\n",
       "      <td>43</td>\n",
       "      <td>15</td>\n",
       "      <td>8</td>\n",
       "      <td>1</td>\n",
       "      <td>0</td>\n",
       "      <td>400</td>\n",
       "      <td>4</td>\n",
       "      <td>16500</td>\n",
       "      <td>0</td>\n",
       "    </tr>\n",
       "  </tbody>\n",
       "</table>\n",
       "<p>5 rows × 229 columns</p>\n",
       "</div>"
      ],
      "text/plain": [
       "    A                                                  ...     J             \\\n",
       "   A0   A1   A2    A3    A4    A5    A6   A7   A8  A9  ...    J5    J6   J7   \n",
       "0   4   11   67   187   476   569   468  240   60  18  ...   472   293  130   \n",
       "1  16   96  450  1154  1781  1771  1125  487  107  13  ...  1834  1125  420   \n",
       "2  20  130  499  1121  1491  1106   471  135   24   3  ...  1171   611  194   \n",
       "3   4   30  109   299   530   499   331  147   41  10  ...   477   295  124   \n",
       "4   8   21   40    56    81    82    53   40   11   8  ...    87    43   15   \n",
       "\n",
       "          no  time snap   date status  \n",
       "   J8  J9                              \n",
       "0  40  14  0  2100    0   2100      0  \n",
       "1  76  15  0  7000    1   9100      0  \n",
       "2  37   6  0  5000    2  14100      0  \n",
       "3  30   5  0  2000    3  16100      0  \n",
       "4   8   1  0   400    4  16500      0  \n",
       "\n",
       "[5 rows x 229 columns]"
      ]
     },
     "execution_count": 3,
     "metadata": {},
     "output_type": "execute_result"
    }
   ],
   "source": [
    "data.head()"
   ]
  },
  {
   "cell_type": "code",
   "execution_count": 4,
   "metadata": {
    "scrolled": true
   },
   "outputs": [
    {
     "name": "stderr",
     "output_type": "stream",
     "text": [
      "/data0/home/dsv/zele5930/projects/zhist_new/ZHist.py:147: PerformanceWarning: dropping on a non-lexsorted multi-index without a level parameter may impact performance.\n",
      "  self.data_simplified = data.drop(drop_cols, axis=1)\n"
     ]
    }
   ],
   "source": [
    "# Important parameters\n",
    "# - data: a Dataframe loaded from the load_data function\n",
    "# - drop_cols: metadata columns which are not histograms\n",
    "# - distance: histogram distance function used for calculating the relative location (default: \"chi2\")\n",
    "# - normal_term: interpolate the histograms and split them again regularly so each histogram has equal time gap in between (default: 300)\n",
    "#   - Those time units are artificially created\n",
    "# - n_bins: number of event labels created (default: 3)\n",
    "# - remove_events: event labels that will not be included in the pattern mining phase  \n",
    "# - isStandardized: If the histograms are already standardized or not. If not, the algorithm first standardize it to have zero mean and one standard deviation\n",
    "#                   (default: False)\n",
    "\n",
    "# Parameters not being used\n",
    "# - minTrend: minimum amount of time duration to be considered to create a trend (default: 300, **NOT USED**). \n",
    "# - matrix_cols: Columns that contain two-dimensional histograms (Not implemented) \n",
    "# - minimal_trend_gradient = 0 (Trends are regarded as \"increasing\" or \"decreasing\" if the absolute derivative value is bigger than this threshold)\n",
    "# - removeMatrix = False (Not implemented)\n",
    "# - removeTrend = True\n",
    "\n",
    "z = ZHist(data, ['no','time','snap','date','status'], normal_term = 300, n_bins = 3, remove_events=['b'])"
   ]
  },
  {
   "cell_type": "code",
   "execution_count": 5,
   "metadata": {},
   "outputs": [
    {
     "name": "stdout",
     "output_type": "stream",
     "text": [
      "getWeightedAverage: 0.3333090841770172\n",
      "interval creation started\n",
      "current: A\n",
      "current: B\n",
      "current: C\n",
      "current: D\n",
      "current: E\n",
      "current: F\n",
      "current: G\n",
      "current: H\n",
      "current: I\n",
      "current: J\n",
      "interval creation is done: 245.78264617547393\n",
      "interval separation started\n",
      "interval separation is done: 0.009128373116254807\n"
     ]
    }
   ],
   "source": [
    "z.fit()"
   ]
  },
  {
   "cell_type": "code",
   "execution_count": null,
   "metadata": {},
   "outputs": [],
   "source": [
    "# Example of the event intervals created by Z-Hist\n",
    "#z.repair_intervals_removed"
   ]
  },
  {
   "cell_type": "code",
   "execution_count": 7,
   "metadata": {},
   "outputs": [
    {
     "name": "stdout",
     "output_type": "stream",
     "text": [
      "########## Z-MINER ##########\n",
      "1-1. MINIMUM SUPPORT: 10.0\n",
      "1-2. EPSILON CONSTRAINT: 0.0\n",
      "1-3. GAP CONSTRAINT: 1000.0\n",
      "1-4. TIMEOUT: 2000000000\n",
      "1-5. LEVEL: 3.0\n",
      "2. NUMBER OF E-SEQUENCES: 100\n",
      "3. TOTAL COMPARISON COUNTS: 731625\n",
      "4. TOTAL FREQUENT ARRANGEMENTS: 7668\n",
      "5. TOTAL TIME CONSUMED: 6.771270743999992\n"
     ]
    }
   ],
   "source": [
    "# Create a data class recognized by the ZMiner (frequent pattern mining) algorithm.\n",
    "\n",
    "# Needs to be done for both sets, which can be accessed by the following variables\n",
    "# - repair_intervals_removed: falty set (status == 1)\n",
    "# - normal_intervals_removed: normal set (status == 0)\n",
    "database = Database(z.repair_intervals_removed)\n",
    "\n",
    "# Parameters to create the constraint for the pattern mining algorithms:\n",
    "# - minSup: minimum support of the pattern in the dataset to be considered for disproportionality\n",
    "# - epsilon: flexibility parameter (default: 0)\n",
    "# - gap: a maximum time gap to be considered as a 'follows' relation\n",
    "# - timeout: timeout for the algorithm\n",
    "# - level: a maximum size of the patterns\n",
    "constraints = makeConstraints([0.1, 0, 1000, 2000000000, 3], z.repair_intervals_removed)\n",
    "\n",
    "# Run pattern mining algorithms\n",
    "# - forgettable: an option to remember the location of each pattern in the dataset (default: True).\n",
    "#   * this is only used to check the actual location. If the interest is the frequencies or disproportionality, it should be turned off.\n",
    "algorithm = ZMiner(database, constraints, forgettable=True)\n",
    "\n",
    "# FL_repair variable will contain the frequency\n",
    "count, freq, timedelta, timeout, FL_repair = algorithm.ZMiner()"
   ]
  },
  {
   "cell_type": "code",
   "execution_count": 8,
   "metadata": {},
   "outputs": [
    {
     "name": "stdout",
     "output_type": "stream",
     "text": [
      "########## Z-MINER ##########\n",
      "1-1. MINIMUM SUPPORT: 90.0\n",
      "1-2. EPSILON CONSTRAINT: 0.0\n",
      "1-3. GAP CONSTRAINT: 1000.0\n",
      "1-4. TIMEOUT: 200000000\n",
      "2. NUMBER OF E-SEQUENCES: 900\n",
      "3. TOTAL COMPARISON COUNTS: 1750200\n",
      "4. TOTAL FREQUENT ARRANGEMENTS: 725\n",
      "5. TOTAL TIME CONSUMED: 18.59606928000005\n"
     ]
    }
   ],
   "source": [
    "database2 = Database(z.normal_intervals_removed)\n",
    "constraints2 = makeConstraints([0.1, 0, 1000, 200000000, 3], z.normal_intervals_removed)\n",
    "algorithm2 = ZMinerD(database2, constraints2, FL_repair, forgettable=True)\n",
    "count2, freq2, tdelta2, timeout2, FL_normal = algorithm2.ZMiner()"
   ]
  },
  {
   "cell_type": "code",
   "execution_count": 23,
   "metadata": {},
   "outputs": [
    {
     "data": {
      "text/plain": [
       "'Disprop_result_0.1_0.0_1000.0_200000000.csv'"
      ]
     },
     "execution_count": 23,
     "metadata": {},
     "output_type": "execute_result"
    }
   ],
   "source": [
    "# This function will calculate the disproportionality for each pattern and save it into a csv file.\n",
    "# - (filename, faulty set, normal set, size of faulty set, size of normal set, constraints used)\n",
    "exportDisprop(\"result\", FL_repair, FL_normal, 100, 900, constraints2)"
   ]
  }
 ],
 "metadata": {
  "kernelspec": {
   "display_name": "Python 3",
   "language": "python",
   "name": "python3"
  },
  "language_info": {
   "codemirror_mode": {
    "name": "ipython",
    "version": 3
   },
   "file_extension": ".py",
   "mimetype": "text/x-python",
   "name": "python",
   "nbconvert_exporter": "python",
   "pygments_lexer": "ipython3",
   "version": "3.9.12"
  }
 },
 "nbformat": 4,
 "nbformat_minor": 4
}
